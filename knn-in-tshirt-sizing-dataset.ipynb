{
 "cells": [
  {
   "cell_type": "code",
   "execution_count": 1,
   "id": "62bdfe52",
   "metadata": {
    "_cell_guid": "b1076dfc-b9ad-4769-8c92-a6c4dae69d19",
    "_uuid": "8f2839f25d086af736a60e9eeb907d3b93b6e0e5",
    "execution": {
     "iopub.execute_input": "2023-11-01T15:03:16.016521Z",
     "iopub.status.busy": "2023-11-01T15:03:16.015899Z",
     "iopub.status.idle": "2023-11-01T15:03:18.937276Z",
     "shell.execute_reply": "2023-11-01T15:03:18.936076Z"
    },
    "papermill": {
     "duration": 2.930417,
     "end_time": "2023-11-01T15:03:18.940002",
     "exception": false,
     "start_time": "2023-11-01T15:03:16.009585",
     "status": "completed"
    },
    "tags": []
   },
   "outputs": [],
   "source": [
    "# This Python 3 environment comes with many helpful analytics libraries installed\n",
    "import numpy as np # linear algebra\n",
    "import pandas as pd # data processing, CSV file I/O (e.g. pd.read_csv)\n",
    "import seaborn as sns\n",
    "import matplotlib.pyplot as plt\n",
    "import plotly.express as px\n",
    "#ML\n",
    "from sklearn.model_selection import train_test_split\n",
    "from sklearn.neighbors import KNeighborsClassifier"
   ]
  },
  {
   "cell_type": "code",
   "execution_count": 2,
   "id": "1ab27f00",
   "metadata": {
    "execution": {
     "iopub.execute_input": "2023-11-01T15:03:18.952132Z",
     "iopub.status.busy": "2023-11-01T15:03:18.951518Z",
     "iopub.status.idle": "2023-11-01T15:03:18.973512Z",
     "shell.execute_reply": "2023-11-01T15:03:18.972460Z"
    },
    "papermill": {
     "duration": 0.0304,
     "end_time": "2023-11-01T15:03:18.976365",
     "exception": false,
     "start_time": "2023-11-01T15:03:18.945965",
     "status": "completed"
    },
    "tags": []
   },
   "outputs": [],
   "source": [
    "df=pd.read_csv(\"/kaggle/input/tshirt-sizing/tshirt-sizing.csv\")"
   ]
  },
  {
   "cell_type": "code",
   "execution_count": 3,
   "id": "6ab4afa1",
   "metadata": {
    "execution": {
     "iopub.execute_input": "2023-11-01T15:03:18.986428Z",
     "iopub.status.busy": "2023-11-01T15:03:18.986013Z",
     "iopub.status.idle": "2023-11-01T15:03:19.008928Z",
     "shell.execute_reply": "2023-11-01T15:03:19.007926Z"
    },
    "papermill": {
     "duration": 0.030854,
     "end_time": "2023-11-01T15:03:19.011197",
     "exception": false,
     "start_time": "2023-11-01T15:03:18.980343",
     "status": "completed"
    },
    "tags": []
   },
   "outputs": [
    {
     "data": {
      "text/html": [
       "<div>\n",
       "<style scoped>\n",
       "    .dataframe tbody tr th:only-of-type {\n",
       "        vertical-align: middle;\n",
       "    }\n",
       "\n",
       "    .dataframe tbody tr th {\n",
       "        vertical-align: top;\n",
       "    }\n",
       "\n",
       "    .dataframe thead th {\n",
       "        text-align: right;\n",
       "    }\n",
       "</style>\n",
       "<table border=\"1\" class=\"dataframe\">\n",
       "  <thead>\n",
       "    <tr style=\"text-align: right;\">\n",
       "      <th></th>\n",
       "      <th>Height (in cms)</th>\n",
       "      <th>Weight (in kgs)</th>\n",
       "      <th>T Shirt Size</th>\n",
       "    </tr>\n",
       "  </thead>\n",
       "  <tbody>\n",
       "    <tr>\n",
       "      <th>0</th>\n",
       "      <td>158</td>\n",
       "      <td>58</td>\n",
       "      <td>S</td>\n",
       "    </tr>\n",
       "    <tr>\n",
       "      <th>1</th>\n",
       "      <td>158</td>\n",
       "      <td>59</td>\n",
       "      <td>S</td>\n",
       "    </tr>\n",
       "    <tr>\n",
       "      <th>2</th>\n",
       "      <td>158</td>\n",
       "      <td>63</td>\n",
       "      <td>S</td>\n",
       "    </tr>\n",
       "    <tr>\n",
       "      <th>3</th>\n",
       "      <td>160</td>\n",
       "      <td>59</td>\n",
       "      <td>S</td>\n",
       "    </tr>\n",
       "    <tr>\n",
       "      <th>4</th>\n",
       "      <td>160</td>\n",
       "      <td>60</td>\n",
       "      <td>S</td>\n",
       "    </tr>\n",
       "    <tr>\n",
       "      <th>5</th>\n",
       "      <td>163</td>\n",
       "      <td>60</td>\n",
       "      <td>S</td>\n",
       "    </tr>\n",
       "    <tr>\n",
       "      <th>6</th>\n",
       "      <td>163</td>\n",
       "      <td>61</td>\n",
       "      <td>S</td>\n",
       "    </tr>\n",
       "    <tr>\n",
       "      <th>7</th>\n",
       "      <td>160</td>\n",
       "      <td>64</td>\n",
       "      <td>L</td>\n",
       "    </tr>\n",
       "    <tr>\n",
       "      <th>8</th>\n",
       "      <td>163</td>\n",
       "      <td>64</td>\n",
       "      <td>L</td>\n",
       "    </tr>\n",
       "    <tr>\n",
       "      <th>9</th>\n",
       "      <td>165</td>\n",
       "      <td>61</td>\n",
       "      <td>L</td>\n",
       "    </tr>\n",
       "  </tbody>\n",
       "</table>\n",
       "</div>"
      ],
      "text/plain": [
       "   Height (in cms)  Weight (in kgs) T Shirt Size\n",
       "0              158               58            S\n",
       "1              158               59            S\n",
       "2              158               63            S\n",
       "3              160               59            S\n",
       "4              160               60            S\n",
       "5              163               60            S\n",
       "6              163               61            S\n",
       "7              160               64            L\n",
       "8              163               64            L\n",
       "9              165               61            L"
      ]
     },
     "execution_count": 3,
     "metadata": {},
     "output_type": "execute_result"
    }
   ],
   "source": [
    "df.head(10)"
   ]
  },
  {
   "cell_type": "code",
   "execution_count": 4,
   "id": "e735d2f6",
   "metadata": {
    "execution": {
     "iopub.execute_input": "2023-11-01T15:03:19.021389Z",
     "iopub.status.busy": "2023-11-01T15:03:19.021008Z",
     "iopub.status.idle": "2023-11-01T15:03:19.029597Z",
     "shell.execute_reply": "2023-11-01T15:03:19.028736Z"
    },
    "papermill": {
     "duration": 0.015917,
     "end_time": "2023-11-01T15:03:19.031446",
     "exception": false,
     "start_time": "2023-11-01T15:03:19.015529",
     "status": "completed"
    },
    "tags": []
   },
   "outputs": [],
   "source": [
    "x=df.iloc[:,0:2]\n",
    "y=df.iloc[:,2]"
   ]
  },
  {
   "cell_type": "markdown",
   "id": "432bcaa4",
   "metadata": {
    "papermill": {
     "duration": 0.003826,
     "end_time": "2023-11-01T15:03:19.039437",
     "exception": false,
     "start_time": "2023-11-01T15:03:19.035611",
     "status": "completed"
    },
    "tags": []
   },
   "source": [
    "## Encoding the output"
   ]
  },
  {
   "cell_type": "code",
   "execution_count": 5,
   "id": "28bf71bc",
   "metadata": {
    "execution": {
     "iopub.execute_input": "2023-11-01T15:03:19.049614Z",
     "iopub.status.busy": "2023-11-01T15:03:19.048891Z",
     "iopub.status.idle": "2023-11-01T15:03:19.053319Z",
     "shell.execute_reply": "2023-11-01T15:03:19.052603Z"
    },
    "papermill": {
     "duration": 0.011817,
     "end_time": "2023-11-01T15:03:19.055327",
     "exception": false,
     "start_time": "2023-11-01T15:03:19.043510",
     "status": "completed"
    },
    "tags": []
   },
   "outputs": [],
   "source": [
    "from sklearn.preprocessing import LabelEncoder\n",
    "encode = LabelEncoder()\n",
    "y=encode.fit_transform(y) \n"
   ]
  },
  {
   "cell_type": "markdown",
   "id": "2695c18e",
   "metadata": {
    "papermill": {
     "duration": 0.004133,
     "end_time": "2023-11-01T15:03:19.063614",
     "exception": false,
     "start_time": "2023-11-01T15:03:19.059481",
     "status": "completed"
    },
    "tags": []
   },
   "source": [
    "## Bulid Model"
   ]
  },
  {
   "cell_type": "markdown",
   "id": "261db759",
   "metadata": {
    "papermill": {
     "duration": 0.003945,
     "end_time": "2023-11-01T15:03:19.071686",
     "exception": false,
     "start_time": "2023-11-01T15:03:19.067741",
     "status": "completed"
    },
    "tags": []
   },
   "source": [
    "### Split data"
   ]
  },
  {
   "cell_type": "code",
   "execution_count": 6,
   "id": "071b403e",
   "metadata": {
    "execution": {
     "iopub.execute_input": "2023-11-01T15:03:19.082482Z",
     "iopub.status.busy": "2023-11-01T15:03:19.081715Z",
     "iopub.status.idle": "2023-11-01T15:03:19.089652Z",
     "shell.execute_reply": "2023-11-01T15:03:19.088849Z"
    },
    "papermill": {
     "duration": 0.015831,
     "end_time": "2023-11-01T15:03:19.091925",
     "exception": false,
     "start_time": "2023-11-01T15:03:19.076094",
     "status": "completed"
    },
    "tags": []
   },
   "outputs": [],
   "source": [
    "x_train,x_test,y_train,y_test=train_test_split(x,y,test_size=.20)\n",
    "model=KNeighborsClassifier()"
   ]
  },
  {
   "cell_type": "code",
   "execution_count": 7,
   "id": "9bc38bc8",
   "metadata": {
    "execution": {
     "iopub.execute_input": "2023-11-01T15:03:19.102726Z",
     "iopub.status.busy": "2023-11-01T15:03:19.101995Z",
     "iopub.status.idle": "2023-11-01T15:03:19.116853Z",
     "shell.execute_reply": "2023-11-01T15:03:19.115712Z"
    },
    "papermill": {
     "duration": 0.022994,
     "end_time": "2023-11-01T15:03:19.119236",
     "exception": false,
     "start_time": "2023-11-01T15:03:19.096242",
     "status": "completed"
    },
    "tags": []
   },
   "outputs": [
    {
     "data": {
      "text/html": [
       "<style>#sk-container-id-1 {color: black;background-color: white;}#sk-container-id-1 pre{padding: 0;}#sk-container-id-1 div.sk-toggleable {background-color: white;}#sk-container-id-1 label.sk-toggleable__label {cursor: pointer;display: block;width: 100%;margin-bottom: 0;padding: 0.3em;box-sizing: border-box;text-align: center;}#sk-container-id-1 label.sk-toggleable__label-arrow:before {content: \"▸\";float: left;margin-right: 0.25em;color: #696969;}#sk-container-id-1 label.sk-toggleable__label-arrow:hover:before {color: black;}#sk-container-id-1 div.sk-estimator:hover label.sk-toggleable__label-arrow:before {color: black;}#sk-container-id-1 div.sk-toggleable__content {max-height: 0;max-width: 0;overflow: hidden;text-align: left;background-color: #f0f8ff;}#sk-container-id-1 div.sk-toggleable__content pre {margin: 0.2em;color: black;border-radius: 0.25em;background-color: #f0f8ff;}#sk-container-id-1 input.sk-toggleable__control:checked~div.sk-toggleable__content {max-height: 200px;max-width: 100%;overflow: auto;}#sk-container-id-1 input.sk-toggleable__control:checked~label.sk-toggleable__label-arrow:before {content: \"▾\";}#sk-container-id-1 div.sk-estimator input.sk-toggleable__control:checked~label.sk-toggleable__label {background-color: #d4ebff;}#sk-container-id-1 div.sk-label input.sk-toggleable__control:checked~label.sk-toggleable__label {background-color: #d4ebff;}#sk-container-id-1 input.sk-hidden--visually {border: 0;clip: rect(1px 1px 1px 1px);clip: rect(1px, 1px, 1px, 1px);height: 1px;margin: -1px;overflow: hidden;padding: 0;position: absolute;width: 1px;}#sk-container-id-1 div.sk-estimator {font-family: monospace;background-color: #f0f8ff;border: 1px dotted black;border-radius: 0.25em;box-sizing: border-box;margin-bottom: 0.5em;}#sk-container-id-1 div.sk-estimator:hover {background-color: #d4ebff;}#sk-container-id-1 div.sk-parallel-item::after {content: \"\";width: 100%;border-bottom: 1px solid gray;flex-grow: 1;}#sk-container-id-1 div.sk-label:hover label.sk-toggleable__label {background-color: #d4ebff;}#sk-container-id-1 div.sk-serial::before {content: \"\";position: absolute;border-left: 1px solid gray;box-sizing: border-box;top: 0;bottom: 0;left: 50%;z-index: 0;}#sk-container-id-1 div.sk-serial {display: flex;flex-direction: column;align-items: center;background-color: white;padding-right: 0.2em;padding-left: 0.2em;position: relative;}#sk-container-id-1 div.sk-item {position: relative;z-index: 1;}#sk-container-id-1 div.sk-parallel {display: flex;align-items: stretch;justify-content: center;background-color: white;position: relative;}#sk-container-id-1 div.sk-item::before, #sk-container-id-1 div.sk-parallel-item::before {content: \"\";position: absolute;border-left: 1px solid gray;box-sizing: border-box;top: 0;bottom: 0;left: 50%;z-index: -1;}#sk-container-id-1 div.sk-parallel-item {display: flex;flex-direction: column;z-index: 1;position: relative;background-color: white;}#sk-container-id-1 div.sk-parallel-item:first-child::after {align-self: flex-end;width: 50%;}#sk-container-id-1 div.sk-parallel-item:last-child::after {align-self: flex-start;width: 50%;}#sk-container-id-1 div.sk-parallel-item:only-child::after {width: 0;}#sk-container-id-1 div.sk-dashed-wrapped {border: 1px dashed gray;margin: 0 0.4em 0.5em 0.4em;box-sizing: border-box;padding-bottom: 0.4em;background-color: white;}#sk-container-id-1 div.sk-label label {font-family: monospace;font-weight: bold;display: inline-block;line-height: 1.2em;}#sk-container-id-1 div.sk-label-container {text-align: center;}#sk-container-id-1 div.sk-container {/* jupyter's `normalize.less` sets `[hidden] { display: none; }` but bootstrap.min.css set `[hidden] { display: none !important; }` so we also need the `!important` here to be able to override the default hidden behavior on the sphinx rendered scikit-learn.org. See: https://github.com/scikit-learn/scikit-learn/issues/21755 */display: inline-block !important;position: relative;}#sk-container-id-1 div.sk-text-repr-fallback {display: none;}</style><div id=\"sk-container-id-1\" class=\"sk-top-container\"><div class=\"sk-text-repr-fallback\"><pre>KNeighborsClassifier()</pre><b>In a Jupyter environment, please rerun this cell to show the HTML representation or trust the notebook. <br />On GitHub, the HTML representation is unable to render, please try loading this page with nbviewer.org.</b></div><div class=\"sk-container\" hidden><div class=\"sk-item\"><div class=\"sk-estimator sk-toggleable\"><input class=\"sk-toggleable__control sk-hidden--visually\" id=\"sk-estimator-id-1\" type=\"checkbox\" checked><label for=\"sk-estimator-id-1\" class=\"sk-toggleable__label sk-toggleable__label-arrow\">KNeighborsClassifier</label><div class=\"sk-toggleable__content\"><pre>KNeighborsClassifier()</pre></div></div></div></div></div>"
      ],
      "text/plain": [
       "KNeighborsClassifier()"
      ]
     },
     "execution_count": 7,
     "metadata": {},
     "output_type": "execute_result"
    }
   ],
   "source": [
    "model.fit(x_train,y_train)"
   ]
  },
  {
   "cell_type": "code",
   "execution_count": 8,
   "id": "d4dbd229",
   "metadata": {
    "execution": {
     "iopub.execute_input": "2023-11-01T15:03:19.130685Z",
     "iopub.status.busy": "2023-11-01T15:03:19.129613Z",
     "iopub.status.idle": "2023-11-01T15:03:19.142705Z",
     "shell.execute_reply": "2023-11-01T15:03:19.141564Z"
    },
    "papermill": {
     "duration": 0.021323,
     "end_time": "2023-11-01T15:03:19.145138",
     "exception": false,
     "start_time": "2023-11-01T15:03:19.123815",
     "status": "completed"
    },
    "tags": []
   },
   "outputs": [
    {
     "data": {
      "text/plain": [
       "array([1, 0, 0, 0])"
      ]
     },
     "execution_count": 8,
     "metadata": {},
     "output_type": "execute_result"
    }
   ],
   "source": [
    "y_pridec=model.predict(x_test)\n",
    "y_pridec"
   ]
  },
  {
   "cell_type": "code",
   "execution_count": 9,
   "id": "764a7d9d",
   "metadata": {
    "execution": {
     "iopub.execute_input": "2023-11-01T15:03:19.156186Z",
     "iopub.status.busy": "2023-11-01T15:03:19.155783Z",
     "iopub.status.idle": "2023-11-01T15:03:19.162164Z",
     "shell.execute_reply": "2023-11-01T15:03:19.161154Z"
    },
    "papermill": {
     "duration": 0.014415,
     "end_time": "2023-11-01T15:03:19.164126",
     "exception": false,
     "start_time": "2023-11-01T15:03:19.149711",
     "status": "completed"
    },
    "tags": []
   },
   "outputs": [
    {
     "data": {
      "text/plain": [
       "array([1, 0, 0, 1])"
      ]
     },
     "execution_count": 9,
     "metadata": {},
     "output_type": "execute_result"
    }
   ],
   "source": [
    "y_test"
   ]
  },
  {
   "cell_type": "markdown",
   "id": "25fedea0",
   "metadata": {
    "papermill": {
     "duration": 0.004389,
     "end_time": "2023-11-01T15:03:19.173211",
     "exception": false,
     "start_time": "2023-11-01T15:03:19.168822",
     "status": "completed"
    },
    "tags": []
   },
   "source": [
    "#### Try to found the best k"
   ]
  },
  {
   "cell_type": "code",
   "execution_count": 10,
   "id": "b7f54081",
   "metadata": {
    "execution": {
     "iopub.execute_input": "2023-11-01T15:03:19.184156Z",
     "iopub.status.busy": "2023-11-01T15:03:19.183733Z",
     "iopub.status.idle": "2023-11-01T15:03:19.191738Z",
     "shell.execute_reply": "2023-11-01T15:03:19.190607Z"
    },
    "papermill": {
     "duration": 0.016282,
     "end_time": "2023-11-01T15:03:19.194083",
     "exception": false,
     "start_time": "2023-11-01T15:03:19.177801",
     "status": "completed"
    },
    "tags": []
   },
   "outputs": [
    {
     "data": {
      "text/plain": [
       "0.75"
      ]
     },
     "execution_count": 10,
     "metadata": {},
     "output_type": "execute_result"
    }
   ],
   "source": [
    "from sklearn.metrics import accuracy_score\n",
    "\n",
    "accuracy_score(y_test , y_pridec)"
   ]
  },
  {
   "cell_type": "code",
   "execution_count": 11,
   "id": "e69c1766",
   "metadata": {
    "execution": {
     "iopub.execute_input": "2023-11-01T15:03:19.205483Z",
     "iopub.status.busy": "2023-11-01T15:03:19.205103Z",
     "iopub.status.idle": "2023-11-01T15:03:19.266118Z",
     "shell.execute_reply": "2023-11-01T15:03:19.264837Z"
    },
    "papermill": {
     "duration": 0.069774,
     "end_time": "2023-11-01T15:03:19.268680",
     "exception": false,
     "start_time": "2023-11-01T15:03:19.198906",
     "status": "completed"
    },
    "tags": []
   },
   "outputs": [
    {
     "data": {
      "text/plain": [
       "[0.0, 0.25, 0.0, 0.25, 0.25, 0.25, 0.0, 0.25, 0.25]"
      ]
     },
     "execution_count": 11,
     "metadata": {},
     "output_type": "execute_result"
    }
   ],
   "source": [
    "test_errors=[]\n",
    "for k in range(1,10):\n",
    "    model=KNeighborsClassifier(n_neighbors=k)\n",
    "    model.fit(x_train,y_train)\n",
    "    \n",
    "    y_predict=model.predict(x_test)\n",
    "    error=1-accuracy_score(y_test,y_predict)\n",
    "    test_errors.append(error)\n",
    "    \n",
    "test_errors  "
   ]
  }
 ],
 "metadata": {
  "kernelspec": {
   "display_name": "Python 3",
   "language": "python",
   "name": "python3"
  },
  "language_info": {
   "codemirror_mode": {
    "name": "ipython",
    "version": 3
   },
   "file_extension": ".py",
   "mimetype": "text/x-python",
   "name": "python",
   "nbconvert_exporter": "python",
   "pygments_lexer": "ipython3",
   "version": "3.10.12"
  },
  "papermill": {
   "default_parameters": {},
   "duration": 7.081164,
   "end_time": "2023-11-01T15:03:19.997467",
   "environment_variables": {},
   "exception": null,
   "input_path": "__notebook__.ipynb",
   "output_path": "__notebook__.ipynb",
   "parameters": {},
   "start_time": "2023-11-01T15:03:12.916303",
   "version": "2.4.0"
  }
 },
 "nbformat": 4,
 "nbformat_minor": 5
}
