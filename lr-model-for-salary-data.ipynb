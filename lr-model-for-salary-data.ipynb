{
 "cells": [
  {
   "cell_type": "code",
   "execution_count": 1,
   "id": "7bf9d6f2",
   "metadata": {
    "execution": {
     "iopub.execute_input": "2023-07-04T19:56:16.463259Z",
     "iopub.status.busy": "2023-07-04T19:56:16.462713Z",
     "iopub.status.idle": "2023-07-04T19:56:19.589235Z",
     "shell.execute_reply": "2023-07-04T19:56:19.587820Z"
    },
    "papermill": {
     "duration": 3.140086,
     "end_time": "2023-07-04T19:56:19.592426",
     "exception": false,
     "start_time": "2023-07-04T19:56:16.452340",
     "status": "completed"
    },
    "tags": []
   },
   "outputs": [],
   "source": [
    "import pandas as pd\n",
    "import numpy as np\n",
    "import plotly.express as px\n",
    "import matplotlib.pyplot as plt\n",
    " #ml library\n",
    "from sklearn.linear_model import LinearRegression"
   ]
  },
  {
   "cell_type": "code",
   "execution_count": 2,
   "id": "261fc6ff",
   "metadata": {
    "execution": {
     "iopub.execute_input": "2023-07-04T19:56:19.609824Z",
     "iopub.status.busy": "2023-07-04T19:56:19.608856Z",
     "iopub.status.idle": "2023-07-04T19:56:19.630586Z",
     "shell.execute_reply": "2023-07-04T19:56:19.629200Z"
    },
    "papermill": {
     "duration": 0.033958,
     "end_time": "2023-07-04T19:56:19.633592",
     "exception": false,
     "start_time": "2023-07-04T19:56:19.599634",
     "status": "completed"
    },
    "tags": []
   },
   "outputs": [],
   "source": [
    "df=pd.read_csv('/kaggle/input/salary-data-simple-linear-regression/Salary_Data.csv')"
   ]
  },
  {
   "cell_type": "code",
   "execution_count": 3,
   "id": "6b1801df",
   "metadata": {
    "execution": {
     "iopub.execute_input": "2023-07-04T19:56:19.649847Z",
     "iopub.status.busy": "2023-07-04T19:56:19.649419Z",
     "iopub.status.idle": "2023-07-04T19:56:19.679733Z",
     "shell.execute_reply": "2023-07-04T19:56:19.678203Z"
    },
    "papermill": {
     "duration": 0.041668,
     "end_time": "2023-07-04T19:56:19.682430",
     "exception": false,
     "start_time": "2023-07-04T19:56:19.640762",
     "status": "completed"
    },
    "tags": []
   },
   "outputs": [
    {
     "data": {
      "text/html": [
       "<div>\n",
       "<style scoped>\n",
       "    .dataframe tbody tr th:only-of-type {\n",
       "        vertical-align: middle;\n",
       "    }\n",
       "\n",
       "    .dataframe tbody tr th {\n",
       "        vertical-align: top;\n",
       "    }\n",
       "\n",
       "    .dataframe thead th {\n",
       "        text-align: right;\n",
       "    }\n",
       "</style>\n",
       "<table border=\"1\" class=\"dataframe\">\n",
       "  <thead>\n",
       "    <tr style=\"text-align: right;\">\n",
       "      <th></th>\n",
       "      <th>YearsExperience</th>\n",
       "      <th>Salary</th>\n",
       "    </tr>\n",
       "  </thead>\n",
       "  <tbody>\n",
       "    <tr>\n",
       "      <th>0</th>\n",
       "      <td>1.1</td>\n",
       "      <td>39343.0</td>\n",
       "    </tr>\n",
       "    <tr>\n",
       "      <th>1</th>\n",
       "      <td>1.3</td>\n",
       "      <td>46205.0</td>\n",
       "    </tr>\n",
       "    <tr>\n",
       "      <th>2</th>\n",
       "      <td>1.5</td>\n",
       "      <td>37731.0</td>\n",
       "    </tr>\n",
       "    <tr>\n",
       "      <th>3</th>\n",
       "      <td>2.0</td>\n",
       "      <td>43525.0</td>\n",
       "    </tr>\n",
       "    <tr>\n",
       "      <th>4</th>\n",
       "      <td>2.2</td>\n",
       "      <td>39891.0</td>\n",
       "    </tr>\n",
       "  </tbody>\n",
       "</table>\n",
       "</div>"
      ],
      "text/plain": [
       "   YearsExperience   Salary\n",
       "0              1.1  39343.0\n",
       "1              1.3  46205.0\n",
       "2              1.5  37731.0\n",
       "3              2.0  43525.0\n",
       "4              2.2  39891.0"
      ]
     },
     "execution_count": 3,
     "metadata": {},
     "output_type": "execute_result"
    }
   ],
   "source": [
    "df.head()"
   ]
  },
  {
   "cell_type": "code",
   "execution_count": 4,
   "id": "3acd2b78",
   "metadata": {
    "execution": {
     "iopub.execute_input": "2023-07-04T19:56:19.699248Z",
     "iopub.status.busy": "2023-07-04T19:56:19.698771Z",
     "iopub.status.idle": "2023-07-04T19:56:19.720497Z",
     "shell.execute_reply": "2023-07-04T19:56:19.719208Z"
    },
    "papermill": {
     "duration": 0.03425,
     "end_time": "2023-07-04T19:56:19.724039",
     "exception": false,
     "start_time": "2023-07-04T19:56:19.689789",
     "status": "completed"
    },
    "tags": []
   },
   "outputs": [
    {
     "name": "stdout",
     "output_type": "stream",
     "text": [
      "<class 'pandas.core.frame.DataFrame'>\n",
      "RangeIndex: 30 entries, 0 to 29\n",
      "Data columns (total 2 columns):\n",
      " #   Column           Non-Null Count  Dtype  \n",
      "---  ------           --------------  -----  \n",
      " 0   YearsExperience  30 non-null     float64\n",
      " 1   Salary           30 non-null     float64\n",
      "dtypes: float64(2)\n",
      "memory usage: 608.0 bytes\n"
     ]
    }
   ],
   "source": [
    "df.info()"
   ]
  },
  {
   "cell_type": "markdown",
   "id": "06bfd180",
   "metadata": {
    "papermill": {
     "duration": 0.006947,
     "end_time": "2023-07-04T19:56:19.738321",
     "exception": false,
     "start_time": "2023-07-04T19:56:19.731374",
     "status": "completed"
    },
    "tags": []
   },
   "source": [
    "##### visualize relation between data using plotly"
   ]
  },
  {
   "cell_type": "code",
   "execution_count": 5,
   "id": "1878fd74",
   "metadata": {
    "execution": {
     "iopub.execute_input": "2023-07-04T19:56:19.755142Z",
     "iopub.status.busy": "2023-07-04T19:56:19.754713Z",
     "iopub.status.idle": "2023-07-04T19:56:21.496623Z",
     "shell.execute_reply": "2023-07-04T19:56:21.494354Z"
    },
    "papermill": {
     "duration": 1.753906,
     "end_time": "2023-07-04T19:56:21.499488",
     "exception": false,
     "start_time": "2023-07-04T19:56:19.745582",
     "status": "completed"
    },
    "tags": []
   },
   "outputs": [
    {
     "data": {
      "text/html": [
       "        <script type=\"text/javascript\">\n",
       "        window.PlotlyConfig = {MathJaxConfig: 'local'};\n",
       "        if (window.MathJax && window.MathJax.Hub && window.MathJax.Hub.Config) {window.MathJax.Hub.Config({SVG: {font: \"STIX-Web\"}});}\n",
       "        if (typeof require !== 'undefined') {\n",
       "        require.undef(\"plotly\");\n",
       "        requirejs.config({\n",
       "            paths: {\n",
       "                'plotly': ['https://cdn.plot.ly/plotly-2.18.0.min']\n",
       "            }\n",
       "        });\n",
       "        require(['plotly'], function(Plotly) {\n",
       "            window._Plotly = Plotly;\n",
       "        });\n",
       "        }\n",
       "        </script>\n",
       "        "
      ]
     },
     "metadata": {},
     "output_type": "display_data"
    },
    {
     "data": {
      "text/html": [
       "<div>                            <div id=\"97b482d7-9243-448f-a639-31fd64b3aae2\" class=\"plotly-graph-div\" style=\"height:525px; width:100%;\"></div>            <script type=\"text/javascript\">                require([\"plotly\"], function(Plotly) {                    window.PLOTLYENV=window.PLOTLYENV || {};                                    if (document.getElementById(\"97b482d7-9243-448f-a639-31fd64b3aae2\")) {                    Plotly.newPlot(                        \"97b482d7-9243-448f-a639-31fd64b3aae2\",                        [{\"hovertemplate\":\"x=%{x}<br>index=%{y}<extra></extra>\",\"legendgroup\":\"\",\"marker\":{\"color\":\"#636efa\",\"symbol\":\"circle\"},\"mode\":\"markers\",\"name\":\"\",\"orientation\":\"h\",\"showlegend\":false,\"x\":[39343.0,46205.0,37731.0,43525.0,39891.0,56642.0,60150.0,54445.0,64445.0,57189.0,63218.0,55794.0,56957.0,57081.0,61111.0,67938.0,66029.0,83088.0,81363.0,93940.0,91738.0,98273.0,101302.0,113812.0,109431.0,105582.0,116969.0,112635.0,122391.0,121872.0],\"xaxis\":\"x\",\"y\":[0,1,2,3,4,5,6,7,8,9,10,11,12,13,14,15,16,17,18,19,20,21,22,23,24,25,26,27,28,29],\"yaxis\":\"y\",\"type\":\"scatter\"}],                        {\"template\":{\"data\":{\"histogram2dcontour\":[{\"type\":\"histogram2dcontour\",\"colorbar\":{\"outlinewidth\":0,\"ticks\":\"\"},\"colorscale\":[[0.0,\"#0d0887\"],[0.1111111111111111,\"#46039f\"],[0.2222222222222222,\"#7201a8\"],[0.3333333333333333,\"#9c179e\"],[0.4444444444444444,\"#bd3786\"],[0.5555555555555556,\"#d8576b\"],[0.6666666666666666,\"#ed7953\"],[0.7777777777777778,\"#fb9f3a\"],[0.8888888888888888,\"#fdca26\"],[1.0,\"#f0f921\"]]}],\"choropleth\":[{\"type\":\"choropleth\",\"colorbar\":{\"outlinewidth\":0,\"ticks\":\"\"}}],\"histogram2d\":[{\"type\":\"histogram2d\",\"colorbar\":{\"outlinewidth\":0,\"ticks\":\"\"},\"colorscale\":[[0.0,\"#0d0887\"],[0.1111111111111111,\"#46039f\"],[0.2222222222222222,\"#7201a8\"],[0.3333333333333333,\"#9c179e\"],[0.4444444444444444,\"#bd3786\"],[0.5555555555555556,\"#d8576b\"],[0.6666666666666666,\"#ed7953\"],[0.7777777777777778,\"#fb9f3a\"],[0.8888888888888888,\"#fdca26\"],[1.0,\"#f0f921\"]]}],\"heatmap\":[{\"type\":\"heatmap\",\"colorbar\":{\"outlinewidth\":0,\"ticks\":\"\"},\"colorscale\":[[0.0,\"#0d0887\"],[0.1111111111111111,\"#46039f\"],[0.2222222222222222,\"#7201a8\"],[0.3333333333333333,\"#9c179e\"],[0.4444444444444444,\"#bd3786\"],[0.5555555555555556,\"#d8576b\"],[0.6666666666666666,\"#ed7953\"],[0.7777777777777778,\"#fb9f3a\"],[0.8888888888888888,\"#fdca26\"],[1.0,\"#f0f921\"]]}],\"heatmapgl\":[{\"type\":\"heatmapgl\",\"colorbar\":{\"outlinewidth\":0,\"ticks\":\"\"},\"colorscale\":[[0.0,\"#0d0887\"],[0.1111111111111111,\"#46039f\"],[0.2222222222222222,\"#7201a8\"],[0.3333333333333333,\"#9c179e\"],[0.4444444444444444,\"#bd3786\"],[0.5555555555555556,\"#d8576b\"],[0.6666666666666666,\"#ed7953\"],[0.7777777777777778,\"#fb9f3a\"],[0.8888888888888888,\"#fdca26\"],[1.0,\"#f0f921\"]]}],\"contourcarpet\":[{\"type\":\"contourcarpet\",\"colorbar\":{\"outlinewidth\":0,\"ticks\":\"\"}}],\"contour\":[{\"type\":\"contour\",\"colorbar\":{\"outlinewidth\":0,\"ticks\":\"\"},\"colorscale\":[[0.0,\"#0d0887\"],[0.1111111111111111,\"#46039f\"],[0.2222222222222222,\"#7201a8\"],[0.3333333333333333,\"#9c179e\"],[0.4444444444444444,\"#bd3786\"],[0.5555555555555556,\"#d8576b\"],[0.6666666666666666,\"#ed7953\"],[0.7777777777777778,\"#fb9f3a\"],[0.8888888888888888,\"#fdca26\"],[1.0,\"#f0f921\"]]}],\"surface\":[{\"type\":\"surface\",\"colorbar\":{\"outlinewidth\":0,\"ticks\":\"\"},\"colorscale\":[[0.0,\"#0d0887\"],[0.1111111111111111,\"#46039f\"],[0.2222222222222222,\"#7201a8\"],[0.3333333333333333,\"#9c179e\"],[0.4444444444444444,\"#bd3786\"],[0.5555555555555556,\"#d8576b\"],[0.6666666666666666,\"#ed7953\"],[0.7777777777777778,\"#fb9f3a\"],[0.8888888888888888,\"#fdca26\"],[1.0,\"#f0f921\"]]}],\"mesh3d\":[{\"type\":\"mesh3d\",\"colorbar\":{\"outlinewidth\":0,\"ticks\":\"\"}}],\"scatter\":[{\"fillpattern\":{\"fillmode\":\"overlay\",\"size\":10,\"solidity\":0.2},\"type\":\"scatter\"}],\"parcoords\":[{\"type\":\"parcoords\",\"line\":{\"colorbar\":{\"outlinewidth\":0,\"ticks\":\"\"}}}],\"scatterpolargl\":[{\"type\":\"scatterpolargl\",\"marker\":{\"colorbar\":{\"outlinewidth\":0,\"ticks\":\"\"}}}],\"bar\":[{\"error_x\":{\"color\":\"#2a3f5f\"},\"error_y\":{\"color\":\"#2a3f5f\"},\"marker\":{\"line\":{\"color\":\"#E5ECF6\",\"width\":0.5},\"pattern\":{\"fillmode\":\"overlay\",\"size\":10,\"solidity\":0.2}},\"type\":\"bar\"}],\"scattergeo\":[{\"type\":\"scattergeo\",\"marker\":{\"colorbar\":{\"outlinewidth\":0,\"ticks\":\"\"}}}],\"scatterpolar\":[{\"type\":\"scatterpolar\",\"marker\":{\"colorbar\":{\"outlinewidth\":0,\"ticks\":\"\"}}}],\"histogram\":[{\"marker\":{\"pattern\":{\"fillmode\":\"overlay\",\"size\":10,\"solidity\":0.2}},\"type\":\"histogram\"}],\"scattergl\":[{\"type\":\"scattergl\",\"marker\":{\"colorbar\":{\"outlinewidth\":0,\"ticks\":\"\"}}}],\"scatter3d\":[{\"type\":\"scatter3d\",\"line\":{\"colorbar\":{\"outlinewidth\":0,\"ticks\":\"\"}},\"marker\":{\"colorbar\":{\"outlinewidth\":0,\"ticks\":\"\"}}}],\"scattermapbox\":[{\"type\":\"scattermapbox\",\"marker\":{\"colorbar\":{\"outlinewidth\":0,\"ticks\":\"\"}}}],\"scatterternary\":[{\"type\":\"scatterternary\",\"marker\":{\"colorbar\":{\"outlinewidth\":0,\"ticks\":\"\"}}}],\"scattercarpet\":[{\"type\":\"scattercarpet\",\"marker\":{\"colorbar\":{\"outlinewidth\":0,\"ticks\":\"\"}}}],\"carpet\":[{\"aaxis\":{\"endlinecolor\":\"#2a3f5f\",\"gridcolor\":\"white\",\"linecolor\":\"white\",\"minorgridcolor\":\"white\",\"startlinecolor\":\"#2a3f5f\"},\"baxis\":{\"endlinecolor\":\"#2a3f5f\",\"gridcolor\":\"white\",\"linecolor\":\"white\",\"minorgridcolor\":\"white\",\"startlinecolor\":\"#2a3f5f\"},\"type\":\"carpet\"}],\"table\":[{\"cells\":{\"fill\":{\"color\":\"#EBF0F8\"},\"line\":{\"color\":\"white\"}},\"header\":{\"fill\":{\"color\":\"#C8D4E3\"},\"line\":{\"color\":\"white\"}},\"type\":\"table\"}],\"barpolar\":[{\"marker\":{\"line\":{\"color\":\"#E5ECF6\",\"width\":0.5},\"pattern\":{\"fillmode\":\"overlay\",\"size\":10,\"solidity\":0.2}},\"type\":\"barpolar\"}],\"pie\":[{\"automargin\":true,\"type\":\"pie\"}]},\"layout\":{\"autotypenumbers\":\"strict\",\"colorway\":[\"#636efa\",\"#EF553B\",\"#00cc96\",\"#ab63fa\",\"#FFA15A\",\"#19d3f3\",\"#FF6692\",\"#B6E880\",\"#FF97FF\",\"#FECB52\"],\"font\":{\"color\":\"#2a3f5f\"},\"hovermode\":\"closest\",\"hoverlabel\":{\"align\":\"left\"},\"paper_bgcolor\":\"white\",\"plot_bgcolor\":\"#E5ECF6\",\"polar\":{\"bgcolor\":\"#E5ECF6\",\"angularaxis\":{\"gridcolor\":\"white\",\"linecolor\":\"white\",\"ticks\":\"\"},\"radialaxis\":{\"gridcolor\":\"white\",\"linecolor\":\"white\",\"ticks\":\"\"}},\"ternary\":{\"bgcolor\":\"#E5ECF6\",\"aaxis\":{\"gridcolor\":\"white\",\"linecolor\":\"white\",\"ticks\":\"\"},\"baxis\":{\"gridcolor\":\"white\",\"linecolor\":\"white\",\"ticks\":\"\"},\"caxis\":{\"gridcolor\":\"white\",\"linecolor\":\"white\",\"ticks\":\"\"}},\"coloraxis\":{\"colorbar\":{\"outlinewidth\":0,\"ticks\":\"\"}},\"colorscale\":{\"sequential\":[[0.0,\"#0d0887\"],[0.1111111111111111,\"#46039f\"],[0.2222222222222222,\"#7201a8\"],[0.3333333333333333,\"#9c179e\"],[0.4444444444444444,\"#bd3786\"],[0.5555555555555556,\"#d8576b\"],[0.6666666666666666,\"#ed7953\"],[0.7777777777777778,\"#fb9f3a\"],[0.8888888888888888,\"#fdca26\"],[1.0,\"#f0f921\"]],\"sequentialminus\":[[0.0,\"#0d0887\"],[0.1111111111111111,\"#46039f\"],[0.2222222222222222,\"#7201a8\"],[0.3333333333333333,\"#9c179e\"],[0.4444444444444444,\"#bd3786\"],[0.5555555555555556,\"#d8576b\"],[0.6666666666666666,\"#ed7953\"],[0.7777777777777778,\"#fb9f3a\"],[0.8888888888888888,\"#fdca26\"],[1.0,\"#f0f921\"]],\"diverging\":[[0,\"#8e0152\"],[0.1,\"#c51b7d\"],[0.2,\"#de77ae\"],[0.3,\"#f1b6da\"],[0.4,\"#fde0ef\"],[0.5,\"#f7f7f7\"],[0.6,\"#e6f5d0\"],[0.7,\"#b8e186\"],[0.8,\"#7fbc41\"],[0.9,\"#4d9221\"],[1,\"#276419\"]]},\"xaxis\":{\"gridcolor\":\"white\",\"linecolor\":\"white\",\"ticks\":\"\",\"title\":{\"standoff\":15},\"zerolinecolor\":\"white\",\"automargin\":true,\"zerolinewidth\":2},\"yaxis\":{\"gridcolor\":\"white\",\"linecolor\":\"white\",\"ticks\":\"\",\"title\":{\"standoff\":15},\"zerolinecolor\":\"white\",\"automargin\":true,\"zerolinewidth\":2},\"scene\":{\"xaxis\":{\"backgroundcolor\":\"#E5ECF6\",\"gridcolor\":\"white\",\"linecolor\":\"white\",\"showbackground\":true,\"ticks\":\"\",\"zerolinecolor\":\"white\",\"gridwidth\":2},\"yaxis\":{\"backgroundcolor\":\"#E5ECF6\",\"gridcolor\":\"white\",\"linecolor\":\"white\",\"showbackground\":true,\"ticks\":\"\",\"zerolinecolor\":\"white\",\"gridwidth\":2},\"zaxis\":{\"backgroundcolor\":\"#E5ECF6\",\"gridcolor\":\"white\",\"linecolor\":\"white\",\"showbackground\":true,\"ticks\":\"\",\"zerolinecolor\":\"white\",\"gridwidth\":2}},\"shapedefaults\":{\"line\":{\"color\":\"#2a3f5f\"}},\"annotationdefaults\":{\"arrowcolor\":\"#2a3f5f\",\"arrowhead\":0,\"arrowwidth\":1},\"geo\":{\"bgcolor\":\"white\",\"landcolor\":\"#E5ECF6\",\"subunitcolor\":\"white\",\"showland\":true,\"showlakes\":true,\"lakecolor\":\"white\"},\"title\":{\"x\":0.05},\"mapbox\":{\"style\":\"light\"}}},\"xaxis\":{\"anchor\":\"y\",\"domain\":[0.0,1.0],\"title\":{\"text\":\"x\"}},\"yaxis\":{\"anchor\":\"x\",\"domain\":[0.0,1.0],\"title\":{\"text\":\"index\"}},\"legend\":{\"tracegroupgap\":0},\"margin\":{\"t\":60}},                        {\"responsive\": true}                    ).then(function(){\n",
       "                            \n",
       "var gd = document.getElementById('97b482d7-9243-448f-a639-31fd64b3aae2');\n",
       "var x = new MutationObserver(function (mutations, observer) {{\n",
       "        var display = window.getComputedStyle(gd).display;\n",
       "        if (!display || display === 'none') {{\n",
       "            console.log([gd, 'removed!']);\n",
       "            Plotly.purge(gd);\n",
       "            observer.disconnect();\n",
       "        }}\n",
       "}});\n",
       "\n",
       "// Listen for the removal of the full notebook cells\n",
       "var notebookContainer = gd.closest('#notebook-container');\n",
       "if (notebookContainer) {{\n",
       "    x.observe(notebookContainer, {childList: true});\n",
       "}}\n",
       "\n",
       "// Listen for the clearing of the current output cell\n",
       "var outputEl = gd.closest('.output');\n",
       "if (outputEl) {{\n",
       "    x.observe(outputEl, {childList: true});\n",
       "}}\n",
       "\n",
       "                        })                };                });            </script>        </div>"
      ]
     },
     "metadata": {},
     "output_type": "display_data"
    }
   ],
   "source": [
    "fig=px.scatter(df['YearsExperience'],df['Salary'])\n",
    "fig.show()"
   ]
  },
  {
   "cell_type": "code",
   "execution_count": 6,
   "id": "112297ec",
   "metadata": {
    "execution": {
     "iopub.execute_input": "2023-07-04T19:56:21.518459Z",
     "iopub.status.busy": "2023-07-04T19:56:21.517151Z",
     "iopub.status.idle": "2023-07-04T19:56:21.523962Z",
     "shell.execute_reply": "2023-07-04T19:56:21.523011Z"
    },
    "papermill": {
     "duration": 0.019029,
     "end_time": "2023-07-04T19:56:21.526555",
     "exception": false,
     "start_time": "2023-07-04T19:56:21.507526",
     "status": "completed"
    },
    "tags": []
   },
   "outputs": [],
   "source": [
    "#assign x,y\n",
    "z=df['YearsExperience']\n",
    "p=df['Salary']\n",
    "a=np.array(z)\n",
    "x=a.reshape(-1, 1)\n",
    "b=np.array(p)\n",
    "y=b.reshape(-1, 1)"
   ]
  },
  {
   "cell_type": "code",
   "execution_count": 7,
   "id": "00a9336b",
   "metadata": {
    "execution": {
     "iopub.execute_input": "2023-07-04T19:56:21.544644Z",
     "iopub.status.busy": "2023-07-04T19:56:21.543834Z",
     "iopub.status.idle": "2023-07-04T19:56:21.549587Z",
     "shell.execute_reply": "2023-07-04T19:56:21.548508Z"
    },
    "papermill": {
     "duration": 0.017735,
     "end_time": "2023-07-04T19:56:21.552238",
     "exception": false,
     "start_time": "2023-07-04T19:56:21.534503",
     "status": "completed"
    },
    "tags": []
   },
   "outputs": [],
   "source": [
    "#split data\n",
    "from sklearn.model_selection import train_test_split\n",
    "x_train,x_test,y_train,y_test=train_test_split(x,y,test_size=.20)"
   ]
  },
  {
   "cell_type": "code",
   "execution_count": 8,
   "id": "b7fb4957",
   "metadata": {
    "execution": {
     "iopub.execute_input": "2023-07-04T19:56:21.570418Z",
     "iopub.status.busy": "2023-07-04T19:56:21.569254Z",
     "iopub.status.idle": "2023-07-04T19:56:21.590593Z",
     "shell.execute_reply": "2023-07-04T19:56:21.589208Z"
    },
    "papermill": {
     "duration": 0.033382,
     "end_time": "2023-07-04T19:56:21.593336",
     "exception": false,
     "start_time": "2023-07-04T19:56:21.559954",
     "status": "completed"
    },
    "tags": []
   },
   "outputs": [
    {
     "data": {
      "text/plain": [
       "array([[ 63507.83397809],\n",
       "       [100883.41026576],\n",
       "       [ 60632.78964827],\n",
       "       [ 72132.96696755],\n",
       "       [ 37632.43500971],\n",
       "       [ 35715.73878983]])"
      ]
     },
     "execution_count": 8,
     "metadata": {},
     "output_type": "execute_result"
    }
   ],
   "source": [
    "#Build_model\n",
    "model = LinearRegression()\n",
    "model.fit(x_train, y_train)\n",
    "y_predict=model.predict(x_test)\n",
    "y_predict"
   ]
  },
  {
   "cell_type": "code",
   "execution_count": 9,
   "id": "c113d7ff",
   "metadata": {
    "execution": {
     "iopub.execute_input": "2023-07-04T19:56:21.611789Z",
     "iopub.status.busy": "2023-07-04T19:56:21.610780Z",
     "iopub.status.idle": "2023-07-04T19:56:21.620607Z",
     "shell.execute_reply": "2023-07-04T19:56:21.618897Z"
    },
    "papermill": {
     "duration": 0.022141,
     "end_time": "2023-07-04T19:56:21.623507",
     "exception": false,
     "start_time": "2023-07-04T19:56:21.601366",
     "status": "completed"
    },
    "tags": []
   },
   "outputs": [
    {
     "data": {
      "text/plain": [
       "array([[ 55794.],\n",
       "       [101302.],\n",
       "       [ 57189.],\n",
       "       [ 67938.],\n",
       "       [ 46205.],\n",
       "       [ 39343.]])"
      ]
     },
     "execution_count": 9,
     "metadata": {},
     "output_type": "execute_result"
    }
   ],
   "source": [
    "y_test"
   ]
  },
  {
   "cell_type": "markdown",
   "id": "177ec22b",
   "metadata": {
    "papermill": {
     "duration": 0.008199,
     "end_time": "2023-07-04T19:56:21.639953",
     "exception": false,
     "start_time": "2023-07-04T19:56:21.631754",
     "status": "completed"
    },
    "tags": []
   },
   "source": [
    "#### Visualize"
   ]
  },
  {
   "cell_type": "code",
   "execution_count": 10,
   "id": "5ba8d4de",
   "metadata": {
    "execution": {
     "iopub.execute_input": "2023-07-04T19:56:21.658526Z",
     "iopub.status.busy": "2023-07-04T19:56:21.657742Z",
     "iopub.status.idle": "2023-07-04T19:56:21.925797Z",
     "shell.execute_reply": "2023-07-04T19:56:21.924555Z"
    },
    "papermill": {
     "duration": 0.280757,
     "end_time": "2023-07-04T19:56:21.928769",
     "exception": false,
     "start_time": "2023-07-04T19:56:21.648012",
     "status": "completed"
    },
    "tags": []
   },
   "outputs": [
    {
     "data": {
      "text/plain": [
       "[<matplotlib.lines.Line2D at 0x797cee4d7090>]"
      ]
     },
     "execution_count": 10,
     "metadata": {},
     "output_type": "execute_result"
    },
    {
     "data": {
      "image/png": "[encoded data removed]",
      "text/plain": [
       "<Figure size 640x480 with 1 Axes>"
      ]
     },
     "metadata": {},
     "output_type": "display_data"
    }
   ],
   "source": [
    "plt.scatter(x_train,y_train)\n",
    "plt.plot(x_train,model.predict(x_train),color='red')"
   ]
  },
  {
   "cell_type": "code",
   "execution_count": 11,
   "id": "32cfdb9d",
   "metadata": {
    "execution": {
     "iopub.execute_input": "2023-07-04T19:56:21.950078Z",
     "iopub.status.busy": "2023-07-04T19:56:21.949279Z",
     "iopub.status.idle": "2023-07-04T19:56:22.215133Z",
     "shell.execute_reply": "2023-07-04T19:56:22.214179Z"
    },
    "papermill": {
     "duration": 0.278761,
     "end_time": "2023-07-04T19:56:22.217787",
     "exception": false,
     "start_time": "2023-07-04T19:56:21.939026",
     "status": "completed"
    },
    "tags": []
   },
   "outputs": [
    {
     "data": {
      "text/plain": [
       "[<matplotlib.lines.Line2D at 0x797ce4be6250>]"
      ]
     },
     "execution_count": 11,
     "metadata": {},
     "output_type": "execute_result"
    },
    {
     "data": {
      "image/png": "[encoded data removed]",
      "text/plain": [
       "<Figure size 640x480 with 1 Axes>"
      ]
     },
     "metadata": {},
     "output_type": "display_data"
    }
   ],
   "source": [
    "plt.scatter(x_test,y_test)\n",
    "plt.plot(x_test,model.predict(x_test),color='red')"
   ]
  },
  {
   "cell_type": "code",
   "execution_count": 12,
   "id": "751c8354",
   "metadata": {
    "execution": {
     "iopub.execute_input": "2023-07-04T19:56:22.238824Z",
     "iopub.status.busy": "2023-07-04T19:56:22.238095Z",
     "iopub.status.idle": "2023-07-04T19:56:22.252333Z",
     "shell.execute_reply": "2023-07-04T19:56:22.251084Z"
    },
    "papermill": {
     "duration": 0.027719,
     "end_time": "2023-07-04T19:56:22.255038",
     "exception": false,
     "start_time": "2023-07-04T19:56:22.227319",
     "status": "completed"
    },
    "tags": []
   },
   "outputs": [
    {
     "data": {
      "text/html": [
       "<div>\n",
       "<style scoped>\n",
       "    .dataframe tbody tr th:only-of-type {\n",
       "        vertical-align: middle;\n",
       "    }\n",
       "\n",
       "    .dataframe tbody tr th {\n",
       "        vertical-align: top;\n",
       "    }\n",
       "\n",
       "    .dataframe thead th {\n",
       "        text-align: right;\n",
       "    }\n",
       "</style>\n",
       "<table border=\"1\" class=\"dataframe\">\n",
       "  <thead>\n",
       "    <tr style=\"text-align: right;\">\n",
       "      <th></th>\n",
       "      <th>actual</th>\n",
       "      <th>prediction</th>\n",
       "    </tr>\n",
       "  </thead>\n",
       "  <tbody>\n",
       "    <tr>\n",
       "      <th>0</th>\n",
       "      <td>55794.0</td>\n",
       "      <td>63507.833978</td>\n",
       "    </tr>\n",
       "    <tr>\n",
       "      <th>1</th>\n",
       "      <td>101302.0</td>\n",
       "      <td>100883.410266</td>\n",
       "    </tr>\n",
       "    <tr>\n",
       "      <th>2</th>\n",
       "      <td>57189.0</td>\n",
       "      <td>60632.789648</td>\n",
       "    </tr>\n",
       "    <tr>\n",
       "      <th>3</th>\n",
       "      <td>67938.0</td>\n",
       "      <td>72132.966968</td>\n",
       "    </tr>\n",
       "    <tr>\n",
       "      <th>4</th>\n",
       "      <td>46205.0</td>\n",
       "      <td>37632.435010</td>\n",
       "    </tr>\n",
       "    <tr>\n",
       "      <th>5</th>\n",
       "      <td>39343.0</td>\n",
       "      <td>35715.738790</td>\n",
       "    </tr>\n",
       "  </tbody>\n",
       "</table>\n",
       "</div>"
      ],
      "text/plain": [
       "     actual     prediction\n",
       "0   55794.0   63507.833978\n",
       "1  101302.0  100883.410266\n",
       "2   57189.0   60632.789648\n",
       "3   67938.0   72132.966968\n",
       "4   46205.0   37632.435010\n",
       "5   39343.0   35715.738790"
      ]
     },
     "execution_count": 12,
     "metadata": {},
     "output_type": "execute_result"
    }
   ],
   "source": [
    "df2=pd.DataFrame({'actual':y_test.flatten(),'prediction':y_predict.flatten()})\n",
    "df2"
   ]
  },
  {
   "cell_type": "code",
   "execution_count": 13,
   "id": "4e93b4bc",
   "metadata": {
    "execution": {
     "iopub.execute_input": "2023-07-04T19:56:22.277011Z",
     "iopub.status.busy": "2023-07-04T19:56:22.276149Z",
     "iopub.status.idle": "2023-07-04T19:56:22.557256Z",
     "shell.execute_reply": "2023-07-04T19:56:22.555906Z"
    },
    "papermill": {
     "duration": 0.295838,
     "end_time": "2023-07-04T19:56:22.560539",
     "exception": false,
     "start_time": "2023-07-04T19:56:22.264701",
     "status": "completed"
    },
    "tags": []
   },
   "outputs": [
    {
     "data": {
      "text/plain": [
       "<AxesSubplot:>"
      ]
     },
     "execution_count": 13,
     "metadata": {},
     "output_type": "execute_result"
    },
    {
     "data": {
      "image/png": "[encoded data removed]",
      "text/plain": [
       "<Figure size 640x480 with 1 Axes>"
      ]
     },
     "metadata": {},
     "output_type": "display_data"
    }
   ],
   "source": [
    "df2.plot(kind='bar')"
   ]
  },
  {
   "cell_type": "markdown",
   "id": "94401591",
   "metadata": {
    "papermill": {
     "duration": 0.009813,
     "end_time": "2023-07-04T19:56:22.580604",
     "exception": false,
     "start_time": "2023-07-04T19:56:22.570791",
     "status": "completed"
    },
    "tags": []
   },
   "source": [
    "________________________"
   ]
  },
  {
   "cell_type": "code",
   "execution_count": 14,
   "id": "8a4e7a79",
   "metadata": {
    "execution": {
     "iopub.execute_input": "2023-07-04T19:56:22.603044Z",
     "iopub.status.busy": "2023-07-04T19:56:22.602598Z",
     "iopub.status.idle": "2023-07-04T19:56:24.084982Z",
     "shell.execute_reply": "2023-07-04T19:56:24.083513Z"
    },
    "papermill": {
     "duration": 1.497088,
     "end_time": "2023-07-04T19:56:24.087727",
     "exception": false,
     "start_time": "2023-07-04T19:56:22.590639",
     "status": "completed"
    },
    "tags": []
   },
   "outputs": [],
   "source": [
    "import statsmodels.api as sm # strong libraryin statics"
   ]
  },
  {
   "cell_type": "code",
   "execution_count": 15,
   "id": "982dc948",
   "metadata": {
    "execution": {
     "iopub.execute_input": "2023-07-04T19:56:24.109901Z",
     "iopub.status.busy": "2023-07-04T19:56:24.109456Z",
     "iopub.status.idle": "2023-07-04T19:56:24.116805Z",
     "shell.execute_reply": "2023-07-04T19:56:24.115552Z"
    },
    "papermill": {
     "duration": 0.021605,
     "end_time": "2023-07-04T19:56:24.119619",
     "exception": false,
     "start_time": "2023-07-04T19:56:24.098014",
     "status": "completed"
    },
    "tags": []
   },
   "outputs": [],
   "source": [
    "x_stat=sm.add_constant(x_train) #for add inputs\n",
    "model2=sm.OLS(y_train,x_stat).fit()"
   ]
  },
  {
   "cell_type": "code",
   "execution_count": 16,
   "id": "61b9a248",
   "metadata": {
    "execution": {
     "iopub.execute_input": "2023-07-04T19:56:24.142033Z",
     "iopub.status.busy": "2023-07-04T19:56:24.141344Z",
     "iopub.status.idle": "2023-07-04T19:56:24.162690Z",
     "shell.execute_reply": "2023-07-04T19:56:24.161552Z"
    },
    "papermill": {
     "duration": 0.03552,
     "end_time": "2023-07-04T19:56:24.165346",
     "exception": false,
     "start_time": "2023-07-04T19:56:24.129826",
     "status": "completed"
    },
    "tags": []
   },
   "outputs": [
    {
     "data": {
      "text/html": [
       "<table class=\"simpletable\">\n",
       "<caption>OLS Regression Results</caption>\n",
       "<tr>\n",
       "  <th>Dep. Variable:</th>            <td>y</td>        <th>  R-squared:         </th> <td>   0.957</td>\n",
       "</tr>\n",
       "<tr>\n",
       "  <th>Model:</th>                   <td>OLS</td>       <th>  Adj. R-squared:    </th> <td>   0.955</td>\n",
       "</tr>\n",
       "<tr>\n",
       "  <th>Method:</th>             <td>Least Squares</td>  <th>  F-statistic:       </th> <td>   487.9</td>\n",
       "</tr>\n",
       "<tr>\n",
       "  <th>Date:</th>             <td>Tue, 04 Jul 2023</td> <th>  Prob (F-statistic):</th> <td>1.66e-16</td>\n",
       "</tr>\n",
       "<tr>\n",
       "  <th>Time:</th>                 <td>19:56:24</td>     <th>  Log-Likelihood:    </th> <td> -241.41</td>\n",
       "</tr>\n",
       "<tr>\n",
       "  <th>No. Observations:</th>      <td>    24</td>      <th>  AIC:               </th> <td>   486.8</td>\n",
       "</tr>\n",
       "<tr>\n",
       "  <th>Df Residuals:</th>          <td>    22</td>      <th>  BIC:               </th> <td>   489.2</td>\n",
       "</tr>\n",
       "<tr>\n",
       "  <th>Df Model:</th>              <td>     1</td>      <th>                     </th>     <td> </td>   \n",
       "</tr>\n",
       "<tr>\n",
       "  <th>Covariance Type:</th>      <td>nonrobust</td>    <th>                     </th>     <td> </td>   \n",
       "</tr>\n",
       "</table>\n",
       "<table class=\"simpletable\">\n",
       "<tr>\n",
       "    <td></td>       <th>coef</th>     <th>std err</th>      <th>t</th>      <th>P>|t|</th>  <th>[0.025</th>    <th>0.975]</th>  \n",
       "</tr>\n",
       "<tr>\n",
       "  <th>const</th> <td> 2.517e+04</td> <td> 2746.171</td> <td>    9.167</td> <td> 0.000</td> <td> 1.95e+04</td> <td> 3.09e+04</td>\n",
       "</tr>\n",
       "<tr>\n",
       "  <th>x1</th>    <td> 9583.4811</td> <td>  433.871</td> <td>   22.088</td> <td> 0.000</td> <td> 8683.687</td> <td> 1.05e+04</td>\n",
       "</tr>\n",
       "</table>\n",
       "<table class=\"simpletable\">\n",
       "<tr>\n",
       "  <th>Omnibus:</th>       <td> 1.830</td> <th>  Durbin-Watson:     </th> <td>   2.088</td>\n",
       "</tr>\n",
       "<tr>\n",
       "  <th>Prob(Omnibus):</th> <td> 0.401</td> <th>  Jarque-Bera (JB):  </th> <td>   1.377</td>\n",
       "</tr>\n",
       "<tr>\n",
       "  <th>Skew:</th>          <td> 0.386</td> <th>  Prob(JB):          </th> <td>   0.502</td>\n",
       "</tr>\n",
       "<tr>\n",
       "  <th>Kurtosis:</th>      <td> 2.116</td> <th>  Cond. No.          </th> <td>    14.7</td>\n",
       "</tr>\n",
       "</table><br/><br/>Notes:<br/>[1] Standard Errors assume that the covariance matrix of the errors is correctly specified."
      ],
      "text/plain": [
       "<class 'statsmodels.iolib.summary.Summary'>\n",
       "\"\"\"\n",
       "                            OLS Regression Results                            \n",
       "==============================================================================\n",
       "Dep. Variable:                      y   R-squared:                       0.957\n",
       "Model:                            OLS   Adj. R-squared:                  0.955\n",
       "Method:                 Least Squares   F-statistic:                     487.9\n",
       "Date:                Tue, 04 Jul 2023   Prob (F-statistic):           1.66e-16\n",
       "Time:                        19:56:24   Log-Likelihood:                -241.41\n",
       "No. Observations:                  24   AIC:                             486.8\n",
       "Df Residuals:                      22   BIC:                             489.2\n",
       "Df Model:                           1                                         \n",
       "Covariance Type:            nonrobust                                         \n",
       "==============================================================================\n",
       "                 coef    std err          t      P>|t|      [0.025      0.975]\n",
       "------------------------------------------------------------------------------\n",
       "const       2.517e+04   2746.171      9.167      0.000    1.95e+04    3.09e+04\n",
       "x1          9583.4811    433.871     22.088      0.000    8683.687    1.05e+04\n",
       "==============================================================================\n",
       "Omnibus:                        1.830   Durbin-Watson:                   2.088\n",
       "Prob(Omnibus):                  0.401   Jarque-Bera (JB):                1.377\n",
       "Skew:                           0.386   Prob(JB):                        0.502\n",
       "Kurtosis:                       2.116   Cond. No.                         14.7\n",
       "==============================================================================\n",
       "\n",
       "Notes:\n",
       "[1] Standard Errors assume that the covariance matrix of the errors is correctly specified.\n",
       "\"\"\""
      ]
     },
     "execution_count": 16,
     "metadata": {},
     "output_type": "execute_result"
    }
   ],
   "source": [
    "model2.summary()"
   ]
  },
  {
   "cell_type": "code",
   "execution_count": null,
   "id": "ba17e5d0",
   "metadata": {
    "papermill": {
     "duration": 0.010234,
     "end_time": "2023-07-04T19:56:24.186006",
     "exception": false,
     "start_time": "2023-07-04T19:56:24.175772",
     "status": "completed"
    },
    "tags": []
   },
   "outputs": [],
   "source": []
  }
 ],
 "metadata": {
  "kernelspec": {
   "display_name": "Python 3",
   "language": "python",
   "name": "python3"
  },
  "language_info": {
   "codemirror_mode": {
    "name": "ipython",
    "version": 3
   },
   "file_extension": ".py",
   "mimetype": "text/x-python",
   "name": "python",
   "nbconvert_exporter": "python",
   "pygments_lexer": "ipython3",
   "version": "3.7.12"
  },
  "papermill": {
   "default_parameters": {},
   "duration": 21.362229,
   "end_time": "2023-07-04T19:56:25.119274",
   "environment_variables": {},
   "exception": null,
   "input_path": "__notebook__.ipynb",
   "output_path": "__notebook__.ipynb",
   "parameters": {},
   "start_time": "2023-07-04T19:56:03.757045",
   "version": "2.4.0"
  }
 },
 "nbformat": 4,
 "nbformat_minor": 5
}
