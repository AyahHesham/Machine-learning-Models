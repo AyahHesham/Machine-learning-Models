{
 "cells": [
  {
   "cell_type": "code",
   "execution_count": 1,
   "id": "465d274a",
   "metadata": {
    "_cell_guid": "b1076dfc-b9ad-4769-8c92-a6c4dae69d19",
    "_uuid": "8f2839f25d086af736a60e9eeb907d3b93b6e0e5",
    "execution": {
     "iopub.execute_input": "2023-07-10T01:46:16.411229Z",
     "iopub.status.busy": "2023-07-10T01:46:16.410701Z",
     "iopub.status.idle": "2023-07-10T01:46:19.172684Z",
     "shell.execute_reply": "2023-07-10T01:46:19.171430Z"
    },
    "papermill": {
     "duration": 2.775141,
     "end_time": "2023-07-10T01:46:19.175569",
     "exception": false,
     "start_time": "2023-07-10T01:46:16.400428",
     "status": "completed"
    },
    "tags": []
   },
   "outputs": [],
   "source": [
    "# This Python 3 environment comes with many helpful analytics libraries installed\n",
    "# It is defined by the kaggle/python Docker image: https://github.com/kaggle/docker-python\n",
    "# For example, here's several helpful packages to load\n",
    "\n",
    "import numpy as np # linear algebra\n",
    "import pandas as pd # data processing, CSV file I/O (e.g. pd.read_csv)\n",
    "import seaborn as sns\n",
    "import matplotlib.pyplot as plt\n",
    "import plotly.express as px\n",
    "#ml\n",
    "from sklearn.linear_model import LinearRegression\n",
    "from sklearn.model_selection import train_test_split\n",
    "from sklearn.preprocessing import PolynomialFeatures #for Polynomial\n",
    "from sklearn.metrics import r2_score"
   ]
  },
  {
   "cell_type": "code",
   "execution_count": 2,
   "id": "69dd3d9e",
   "metadata": {
    "execution": {
     "iopub.execute_input": "2023-07-10T01:46:19.193211Z",
     "iopub.status.busy": "2023-07-10T01:46:19.192783Z",
     "iopub.status.idle": "2023-07-10T01:46:19.215326Z",
     "shell.execute_reply": "2023-07-10T01:46:19.213930Z"
    },
    "papermill": {
     "duration": 0.034694,
     "end_time": "2023-07-10T01:46:19.218309",
     "exception": false,
     "start_time": "2023-07-10T01:46:19.183615",
     "status": "completed"
    },
    "tags": []
   },
   "outputs": [],
   "source": [
    "df=pd.read_csv('/kaggle/input/position-salaries/Position_Salaries.csv')"
   ]
  },
  {
   "cell_type": "code",
   "execution_count": 3,
   "id": "53139d76",
   "metadata": {
    "execution": {
     "iopub.execute_input": "2023-07-10T01:46:19.236457Z",
     "iopub.status.busy": "2023-07-10T01:46:19.235650Z",
     "iopub.status.idle": "2023-07-10T01:46:19.266997Z",
     "shell.execute_reply": "2023-07-10T01:46:19.266010Z"
    },
    "papermill": {
     "duration": 0.043257,
     "end_time": "2023-07-10T01:46:19.269691",
     "exception": false,
     "start_time": "2023-07-10T01:46:19.226434",
     "status": "completed"
    },
    "tags": []
   },
   "outputs": [
    {
     "data": {
      "text/html": [
       "<div>\n",
       "<style scoped>\n",
       "    .dataframe tbody tr th:only-of-type {\n",
       "        vertical-align: middle;\n",
       "    }\n",
       "\n",
       "    .dataframe tbody tr th {\n",
       "        vertical-align: top;\n",
       "    }\n",
       "\n",
       "    .dataframe thead th {\n",
       "        text-align: right;\n",
       "    }\n",
       "</style>\n",
       "<table border=\"1\" class=\"dataframe\">\n",
       "  <thead>\n",
       "    <tr style=\"text-align: right;\">\n",
       "      <th></th>\n",
       "      <th>Position</th>\n",
       "      <th>Level</th>\n",
       "      <th>Salary</th>\n",
       "    </tr>\n",
       "  </thead>\n",
       "  <tbody>\n",
       "    <tr>\n",
       "      <th>0</th>\n",
       "      <td>Business Analyst</td>\n",
       "      <td>1</td>\n",
       "      <td>45000</td>\n",
       "    </tr>\n",
       "    <tr>\n",
       "      <th>1</th>\n",
       "      <td>Junior Consultant</td>\n",
       "      <td>2</td>\n",
       "      <td>50000</td>\n",
       "    </tr>\n",
       "    <tr>\n",
       "      <th>2</th>\n",
       "      <td>Senior Consultant</td>\n",
       "      <td>3</td>\n",
       "      <td>60000</td>\n",
       "    </tr>\n",
       "    <tr>\n",
       "      <th>3</th>\n",
       "      <td>Manager</td>\n",
       "      <td>4</td>\n",
       "      <td>80000</td>\n",
       "    </tr>\n",
       "    <tr>\n",
       "      <th>4</th>\n",
       "      <td>Country Manager</td>\n",
       "      <td>5</td>\n",
       "      <td>110000</td>\n",
       "    </tr>\n",
       "  </tbody>\n",
       "</table>\n",
       "</div>"
      ],
      "text/plain": [
       "            Position  Level  Salary\n",
       "0   Business Analyst      1   45000\n",
       "1  Junior Consultant      2   50000\n",
       "2  Senior Consultant      3   60000\n",
       "3            Manager      4   80000\n",
       "4    Country Manager      5  110000"
      ]
     },
     "execution_count": 3,
     "metadata": {},
     "output_type": "execute_result"
    }
   ],
   "source": [
    "df.head()"
   ]
  },
  {
   "cell_type": "code",
   "execution_count": 4,
   "id": "9a4a75fb",
   "metadata": {
    "execution": {
     "iopub.execute_input": "2023-07-10T01:46:19.287865Z",
     "iopub.status.busy": "2023-07-10T01:46:19.287101Z",
     "iopub.status.idle": "2023-07-10T01:46:19.295860Z",
     "shell.execute_reply": "2023-07-10T01:46:19.294735Z"
    },
    "papermill": {
     "duration": 0.021136,
     "end_time": "2023-07-10T01:46:19.298812",
     "exception": false,
     "start_time": "2023-07-10T01:46:19.277676",
     "status": "completed"
    },
    "tags": []
   },
   "outputs": [],
   "source": [
    "x=df.iloc[:,1:2].values\n",
    "y=df.iloc[:,2].values"
   ]
  },
  {
   "cell_type": "markdown",
   "id": "d54466d7",
   "metadata": {
    "papermill": {
     "duration": 0.009144,
     "end_time": "2023-07-10T01:46:19.315969",
     "exception": false,
     "start_time": "2023-07-10T01:46:19.306825",
     "status": "completed"
    },
    "tags": []
   },
   "source": [
    "#### Build linearRegreession model"
   ]
  },
  {
   "cell_type": "markdown",
   "id": "8fe7a778",
   "metadata": {
    "papermill": {
     "duration": 0.00742,
     "end_time": "2023-07-10T01:46:19.331235",
     "exception": false,
     "start_time": "2023-07-10T01:46:19.323815",
     "status": "completed"
    },
    "tags": []
   },
   "source": [
    "#### Split Data"
   ]
  },
  {
   "cell_type": "code",
   "execution_count": 5,
   "id": "9d2e93c5",
   "metadata": {
    "execution": {
     "iopub.execute_input": "2023-07-10T01:46:19.348684Z",
     "iopub.status.busy": "2023-07-10T01:46:19.348248Z",
     "iopub.status.idle": "2023-07-10T01:46:19.356750Z",
     "shell.execute_reply": "2023-07-10T01:46:19.355494Z"
    },
    "papermill": {
     "duration": 0.020348,
     "end_time": "2023-07-10T01:46:19.359466",
     "exception": false,
     "start_time": "2023-07-10T01:46:19.339118",
     "status": "completed"
    },
    "tags": []
   },
   "outputs": [],
   "source": [
    "x_train,x_test,y_train,y_test=train_test_split(x,y,test_size=.20)"
   ]
  },
  {
   "cell_type": "code",
   "execution_count": 6,
   "id": "56786237",
   "metadata": {
    "execution": {
     "iopub.execute_input": "2023-07-10T01:46:19.377742Z",
     "iopub.status.busy": "2023-07-10T01:46:19.376535Z",
     "iopub.status.idle": "2023-07-10T01:46:19.382287Z",
     "shell.execute_reply": "2023-07-10T01:46:19.381343Z"
    },
    "papermill": {
     "duration": 0.017561,
     "end_time": "2023-07-10T01:46:19.384868",
     "exception": false,
     "start_time": "2023-07-10T01:46:19.367307",
     "status": "completed"
    },
    "tags": []
   },
   "outputs": [],
   "source": [
    "rg_model=LinearRegression()"
   ]
  },
  {
   "cell_type": "code",
   "execution_count": 7,
   "id": "48fbe18b",
   "metadata": {
    "execution": {
     "iopub.execute_input": "2023-07-10T01:46:19.402738Z",
     "iopub.status.busy": "2023-07-10T01:46:19.402314Z",
     "iopub.status.idle": "2023-07-10T01:46:19.429783Z",
     "shell.execute_reply": "2023-07-10T01:46:19.428561Z"
    },
    "papermill": {
     "duration": 0.039834,
     "end_time": "2023-07-10T01:46:19.432649",
     "exception": false,
     "start_time": "2023-07-10T01:46:19.392815",
     "status": "completed"
    },
    "tags": []
   },
   "outputs": [
    {
     "data": {
      "text/html": [
       "<style>#sk-container-id-1 {color: black;background-color: white;}#sk-container-id-1 pre{padding: 0;}#sk-container-id-1 div.sk-toggleable {background-color: white;}#sk-container-id-1 label.sk-toggleable__label {cursor: pointer;display: block;width: 100%;margin-bottom: 0;padding: 0.3em;box-sizing: border-box;text-align: center;}#sk-container-id-1 label.sk-toggleable__label-arrow:before {content: \"▸\";float: left;margin-right: 0.25em;color: #696969;}#sk-container-id-1 label.sk-toggleable__label-arrow:hover:before {color: black;}#sk-container-id-1 div.sk-estimator:hover label.sk-toggleable__label-arrow:before {color: black;}#sk-container-id-1 div.sk-toggleable__content {max-height: 0;max-width: 0;overflow: hidden;text-align: left;background-color: #f0f8ff;}#sk-container-id-1 div.sk-toggleable__content pre {margin: 0.2em;color: black;border-radius: 0.25em;background-color: #f0f8ff;}#sk-container-id-1 input.sk-toggleable__control:checked~div.sk-toggleable__content {max-height: 200px;max-width: 100%;overflow: auto;}#sk-container-id-1 input.sk-toggleable__control:checked~label.sk-toggleable__label-arrow:before {content: \"▾\";}#sk-container-id-1 div.sk-estimator input.sk-toggleable__control:checked~label.sk-toggleable__label {background-color: #d4ebff;}#sk-container-id-1 div.sk-label input.sk-toggleable__control:checked~label.sk-toggleable__label {background-color: #d4ebff;}#sk-container-id-1 input.sk-hidden--visually {border: 0;clip: rect(1px 1px 1px 1px);clip: rect(1px, 1px, 1px, 1px);height: 1px;margin: -1px;overflow: hidden;padding: 0;position: absolute;width: 1px;}#sk-container-id-1 div.sk-estimator {font-family: monospace;background-color: #f0f8ff;border: 1px dotted black;border-radius: 0.25em;box-sizing: border-box;margin-bottom: 0.5em;}#sk-container-id-1 div.sk-estimator:hover {background-color: #d4ebff;}#sk-container-id-1 div.sk-parallel-item::after {content: \"\";width: 100%;border-bottom: 1px solid gray;flex-grow: 1;}#sk-container-id-1 div.sk-label:hover label.sk-toggleable__label {background-color: #d4ebff;}#sk-container-id-1 div.sk-serial::before {content: \"\";position: absolute;border-left: 1px solid gray;box-sizing: border-box;top: 0;bottom: 0;left: 50%;z-index: 0;}#sk-container-id-1 div.sk-serial {display: flex;flex-direction: column;align-items: center;background-color: white;padding-right: 0.2em;padding-left: 0.2em;position: relative;}#sk-container-id-1 div.sk-item {position: relative;z-index: 1;}#sk-container-id-1 div.sk-parallel {display: flex;align-items: stretch;justify-content: center;background-color: white;position: relative;}#sk-container-id-1 div.sk-item::before, #sk-container-id-1 div.sk-parallel-item::before {content: \"\";position: absolute;border-left: 1px solid gray;box-sizing: border-box;top: 0;bottom: 0;left: 50%;z-index: -1;}#sk-container-id-1 div.sk-parallel-item {display: flex;flex-direction: column;z-index: 1;position: relative;background-color: white;}#sk-container-id-1 div.sk-parallel-item:first-child::after {align-self: flex-end;width: 50%;}#sk-container-id-1 div.sk-parallel-item:last-child::after {align-self: flex-start;width: 50%;}#sk-container-id-1 div.sk-parallel-item:only-child::after {width: 0;}#sk-container-id-1 div.sk-dashed-wrapped {border: 1px dashed gray;margin: 0 0.4em 0.5em 0.4em;box-sizing: border-box;padding-bottom: 0.4em;background-color: white;}#sk-container-id-1 div.sk-label label {font-family: monospace;font-weight: bold;display: inline-block;line-height: 1.2em;}#sk-container-id-1 div.sk-label-container {text-align: center;}#sk-container-id-1 div.sk-container {/* jupyter's `normalize.less` sets `[hidden] { display: none; }` but bootstrap.min.css set `[hidden] { display: none !important; }` so we also need the `!important` here to be able to override the default hidden behavior on the sphinx rendered scikit-learn.org. See: https://github.com/scikit-learn/scikit-learn/issues/21755 */display: inline-block !important;position: relative;}#sk-container-id-1 div.sk-text-repr-fallback {display: none;}</style><div id=\"sk-container-id-1\" class=\"sk-top-container\"><div class=\"sk-text-repr-fallback\"><pre>LinearRegression()</pre><b>In a Jupyter environment, please rerun this cell to show the HTML representation or trust the notebook. <br />On GitHub, the HTML representation is unable to render, please try loading this page with nbviewer.org.</b></div><div class=\"sk-container\" hidden><div class=\"sk-item\"><div class=\"sk-estimator sk-toggleable\"><input class=\"sk-toggleable__control sk-hidden--visually\" id=\"sk-estimator-id-1\" type=\"checkbox\" checked><label for=\"sk-estimator-id-1\" class=\"sk-toggleable__label sk-toggleable__label-arrow\">LinearRegression</label><div class=\"sk-toggleable__content\"><pre>LinearRegression()</pre></div></div></div></div></div>"
      ],
      "text/plain": [
       "LinearRegression()"
      ]
     },
     "execution_count": 7,
     "metadata": {},
     "output_type": "execute_result"
    }
   ],
   "source": [
    "rg_model.fit(x_train,y_train)"
   ]
  },
  {
   "cell_type": "code",
   "execution_count": 8,
   "id": "4ea2d8c0",
   "metadata": {
    "execution": {
     "iopub.execute_input": "2023-07-10T01:46:19.451307Z",
     "iopub.status.busy": "2023-07-10T01:46:19.450846Z",
     "iopub.status.idle": "2023-07-10T01:46:19.458708Z",
     "shell.execute_reply": "2023-07-10T01:46:19.457535Z"
    },
    "papermill": {
     "duration": 0.019885,
     "end_time": "2023-07-10T01:46:19.461149",
     "exception": false,
     "start_time": "2023-07-10T01:46:19.441264",
     "status": "completed"
    },
    "tags": []
   },
   "outputs": [
    {
     "data": {
      "text/plain": [
       "array([115818.88246628, -53410.40462428])"
      ]
     },
     "execution_count": 8,
     "metadata": {},
     "output_type": "execute_result"
    }
   ],
   "source": [
    "y_predict=rg_model.predict(x_test)\n",
    "y_predict"
   ]
  },
  {
   "cell_type": "code",
   "execution_count": 9,
   "id": "920ec204",
   "metadata": {
    "execution": {
     "iopub.execute_input": "2023-07-10T01:46:19.480719Z",
     "iopub.status.busy": "2023-07-10T01:46:19.480223Z",
     "iopub.status.idle": "2023-07-10T01:46:19.487410Z",
     "shell.execute_reply": "2023-07-10T01:46:19.486279Z"
    },
    "papermill": {
     "duration": 0.019647,
     "end_time": "2023-07-10T01:46:19.489923",
     "exception": false,
     "start_time": "2023-07-10T01:46:19.470276",
     "status": "completed"
    },
    "tags": []
   },
   "outputs": [
    {
     "data": {
      "text/plain": [
       "array([80000, 50000])"
      ]
     },
     "execution_count": 9,
     "metadata": {},
     "output_type": "execute_result"
    }
   ],
   "source": [
    "y_test"
   ]
  },
  {
   "cell_type": "code",
   "execution_count": 10,
   "id": "508f6e05",
   "metadata": {
    "execution": {
     "iopub.execute_input": "2023-07-10T01:46:19.508820Z",
     "iopub.status.busy": "2023-07-10T01:46:19.508381Z",
     "iopub.status.idle": "2023-07-10T01:46:19.824804Z",
     "shell.execute_reply": "2023-07-10T01:46:19.823548Z"
    },
    "papermill": {
     "duration": 0.328847,
     "end_time": "2023-07-10T01:46:19.827344",
     "exception": false,
     "start_time": "2023-07-10T01:46:19.498497",
     "status": "completed"
    },
    "tags": []
   },
   "outputs": [
    {
     "data": {
      "text/plain": [
       "[<matplotlib.lines.Line2D at 0x7c2f1eb28910>]"
      ]
     },
     "execution_count": 10,
     "metadata": {},
     "output_type": "execute_result"
    },
    {
     "data": {
      "image/png": "[encoded data removed]",
      "text/plain": [
       "<Figure size 640x480 with 1 Axes>"
      ]
     },
     "metadata": {},
     "output_type": "display_data"
    }
   ],
   "source": [
    "plt.scatter(x,y)\n",
    "plt.plot(x,rg_model.predict(x))"
   ]
  },
  {
   "cell_type": "code",
   "execution_count": 11,
   "id": "40d47ca5",
   "metadata": {
    "execution": {
     "iopub.execute_input": "2023-07-10T01:46:19.847668Z",
     "iopub.status.busy": "2023-07-10T01:46:19.847115Z",
     "iopub.status.idle": "2023-07-10T01:46:19.855603Z",
     "shell.execute_reply": "2023-07-10T01:46:19.854300Z"
    },
    "papermill": {
     "duration": 0.021667,
     "end_time": "2023-07-10T01:46:19.858123",
     "exception": false,
     "start_time": "2023-07-10T01:46:19.836456",
     "status": "completed"
    },
    "tags": []
   },
   "outputs": [
    {
     "data": {
      "text/plain": [
       "-25.61489805708898"
      ]
     },
     "execution_count": 11,
     "metadata": {},
     "output_type": "execute_result"
    }
   ],
   "source": [
    "r2_score(y_test ,y_predict)"
   ]
  },
  {
   "cell_type": "code",
   "execution_count": 12,
   "id": "9d1414ae",
   "metadata": {
    "execution": {
     "iopub.execute_input": "2023-07-10T01:46:19.878315Z",
     "iopub.status.busy": "2023-07-10T01:46:19.877891Z",
     "iopub.status.idle": "2023-07-10T01:46:19.884074Z",
     "shell.execute_reply": "2023-07-10T01:46:19.882936Z"
    },
    "papermill": {
     "duration": 0.019211,
     "end_time": "2023-07-10T01:46:19.886392",
     "exception": false,
     "start_time": "2023-07-10T01:46:19.867181",
     "status": "completed"
    },
    "tags": []
   },
   "outputs": [],
   "source": [
    "#polymonal for improve prediction\n",
    "x_poly=PolynomialFeatures(degree=3)\n",
    "new_x =x_poly.fit_transform(x)"
   ]
  },
  {
   "cell_type": "code",
   "execution_count": 13,
   "id": "590746bc",
   "metadata": {
    "execution": {
     "iopub.execute_input": "2023-07-10T01:46:19.907036Z",
     "iopub.status.busy": "2023-07-10T01:46:19.906607Z",
     "iopub.status.idle": "2023-07-10T01:46:19.912556Z",
     "shell.execute_reply": "2023-07-10T01:46:19.911395Z"
    },
    "papermill": {
     "duration": 0.019644,
     "end_time": "2023-07-10T01:46:19.915108",
     "exception": false,
     "start_time": "2023-07-10T01:46:19.895464",
     "status": "completed"
    },
    "tags": []
   },
   "outputs": [],
   "source": [
    "xx_train,xx_test,yy_train,yy_test=train_test_split(new_x,y,test_size=.20)"
   ]
  },
  {
   "cell_type": "code",
   "execution_count": 14,
   "id": "af384d0d",
   "metadata": {
    "execution": {
     "iopub.execute_input": "2023-07-10T01:46:19.935627Z",
     "iopub.status.busy": "2023-07-10T01:46:19.935226Z",
     "iopub.status.idle": "2023-07-10T01:46:19.952154Z",
     "shell.execute_reply": "2023-07-10T01:46:19.950845Z"
    },
    "papermill": {
     "duration": 0.030139,
     "end_time": "2023-07-10T01:46:19.954685",
     "exception": false,
     "start_time": "2023-07-10T01:46:19.924546",
     "status": "completed"
    },
    "tags": []
   },
   "outputs": [
    {
     "data": {
      "text/html": [
       "<style>#sk-container-id-2 {color: black;background-color: white;}#sk-container-id-2 pre{padding: 0;}#sk-container-id-2 div.sk-toggleable {background-color: white;}#sk-container-id-2 label.sk-toggleable__label {cursor: pointer;display: block;width: 100%;margin-bottom: 0;padding: 0.3em;box-sizing: border-box;text-align: center;}#sk-container-id-2 label.sk-toggleable__label-arrow:before {content: \"▸\";float: left;margin-right: 0.25em;color: #696969;}#sk-container-id-2 label.sk-toggleable__label-arrow:hover:before {color: black;}#sk-container-id-2 div.sk-estimator:hover label.sk-toggleable__label-arrow:before {color: black;}#sk-container-id-2 div.sk-toggleable__content {max-height: 0;max-width: 0;overflow: hidden;text-align: left;background-color: #f0f8ff;}#sk-container-id-2 div.sk-toggleable__content pre {margin: 0.2em;color: black;border-radius: 0.25em;background-color: #f0f8ff;}#sk-container-id-2 input.sk-toggleable__control:checked~div.sk-toggleable__content {max-height: 200px;max-width: 100%;overflow: auto;}#sk-container-id-2 input.sk-toggleable__control:checked~label.sk-toggleable__label-arrow:before {content: \"▾\";}#sk-container-id-2 div.sk-estimator input.sk-toggleable__control:checked~label.sk-toggleable__label {background-color: #d4ebff;}#sk-container-id-2 div.sk-label input.sk-toggleable__control:checked~label.sk-toggleable__label {background-color: #d4ebff;}#sk-container-id-2 input.sk-hidden--visually {border: 0;clip: rect(1px 1px 1px 1px);clip: rect(1px, 1px, 1px, 1px);height: 1px;margin: -1px;overflow: hidden;padding: 0;position: absolute;width: 1px;}#sk-container-id-2 div.sk-estimator {font-family: monospace;background-color: #f0f8ff;border: 1px dotted black;border-radius: 0.25em;box-sizing: border-box;margin-bottom: 0.5em;}#sk-container-id-2 div.sk-estimator:hover {background-color: #d4ebff;}#sk-container-id-2 div.sk-parallel-item::after {content: \"\";width: 100%;border-bottom: 1px solid gray;flex-grow: 1;}#sk-container-id-2 div.sk-label:hover label.sk-toggleable__label {background-color: #d4ebff;}#sk-container-id-2 div.sk-serial::before {content: \"\";position: absolute;border-left: 1px solid gray;box-sizing: border-box;top: 0;bottom: 0;left: 50%;z-index: 0;}#sk-container-id-2 div.sk-serial {display: flex;flex-direction: column;align-items: center;background-color: white;padding-right: 0.2em;padding-left: 0.2em;position: relative;}#sk-container-id-2 div.sk-item {position: relative;z-index: 1;}#sk-container-id-2 div.sk-parallel {display: flex;align-items: stretch;justify-content: center;background-color: white;position: relative;}#sk-container-id-2 div.sk-item::before, #sk-container-id-2 div.sk-parallel-item::before {content: \"\";position: absolute;border-left: 1px solid gray;box-sizing: border-box;top: 0;bottom: 0;left: 50%;z-index: -1;}#sk-container-id-2 div.sk-parallel-item {display: flex;flex-direction: column;z-index: 1;position: relative;background-color: white;}#sk-container-id-2 div.sk-parallel-item:first-child::after {align-self: flex-end;width: 50%;}#sk-container-id-2 div.sk-parallel-item:last-child::after {align-self: flex-start;width: 50%;}#sk-container-id-2 div.sk-parallel-item:only-child::after {width: 0;}#sk-container-id-2 div.sk-dashed-wrapped {border: 1px dashed gray;margin: 0 0.4em 0.5em 0.4em;box-sizing: border-box;padding-bottom: 0.4em;background-color: white;}#sk-container-id-2 div.sk-label label {font-family: monospace;font-weight: bold;display: inline-block;line-height: 1.2em;}#sk-container-id-2 div.sk-label-container {text-align: center;}#sk-container-id-2 div.sk-container {/* jupyter's `normalize.less` sets `[hidden] { display: none; }` but bootstrap.min.css set `[hidden] { display: none !important; }` so we also need the `!important` here to be able to override the default hidden behavior on the sphinx rendered scikit-learn.org. See: https://github.com/scikit-learn/scikit-learn/issues/21755 */display: inline-block !important;position: relative;}#sk-container-id-2 div.sk-text-repr-fallback {display: none;}</style><div id=\"sk-container-id-2\" class=\"sk-top-container\"><div class=\"sk-text-repr-fallback\"><pre>LinearRegression()</pre><b>In a Jupyter environment, please rerun this cell to show the HTML representation or trust the notebook. <br />On GitHub, the HTML representation is unable to render, please try loading this page with nbviewer.org.</b></div><div class=\"sk-container\" hidden><div class=\"sk-item\"><div class=\"sk-estimator sk-toggleable\"><input class=\"sk-toggleable__control sk-hidden--visually\" id=\"sk-estimator-id-2\" type=\"checkbox\" checked><label for=\"sk-estimator-id-2\" class=\"sk-toggleable__label sk-toggleable__label-arrow\">LinearRegression</label><div class=\"sk-toggleable__content\"><pre>LinearRegression()</pre></div></div></div></div></div>"
      ],
      "text/plain": [
       "LinearRegression()"
      ]
     },
     "execution_count": 14,
     "metadata": {},
     "output_type": "execute_result"
    }
   ],
   "source": [
    "poly_model=LinearRegression()\n",
    "poly_model.fit(xx_train,yy_train)"
   ]
  },
  {
   "cell_type": "code",
   "execution_count": 15,
   "id": "2d9423cb",
   "metadata": {
    "execution": {
     "iopub.execute_input": "2023-07-10T01:46:19.976579Z",
     "iopub.status.busy": "2023-07-10T01:46:19.975397Z",
     "iopub.status.idle": "2023-07-10T01:46:19.983231Z",
     "shell.execute_reply": "2023-07-10T01:46:19.982163Z"
    },
    "papermill": {
     "duration": 0.021416,
     "end_time": "2023-07-10T01:46:19.985541",
     "exception": false,
     "start_time": "2023-07-10T01:46:19.964125",
     "status": "completed"
    },
    "tags": []
   },
   "outputs": [
    {
     "data": {
      "text/plain": [
       "array([163775.10345666, 114522.12147032])"
      ]
     },
     "execution_count": 15,
     "metadata": {},
     "output_type": "execute_result"
    }
   ],
   "source": [
    "yy_predict=poly_model.predict(xx_test)\n",
    "yy_predict"
   ]
  },
  {
   "cell_type": "code",
   "execution_count": 16,
   "id": "d8f06cbd",
   "metadata": {
    "execution": {
     "iopub.execute_input": "2023-07-10T01:46:20.007003Z",
     "iopub.status.busy": "2023-07-10T01:46:20.006162Z",
     "iopub.status.idle": "2023-07-10T01:46:20.012463Z",
     "shell.execute_reply": "2023-07-10T01:46:20.011527Z"
    },
    "papermill": {
     "duration": 0.019578,
     "end_time": "2023-07-10T01:46:20.014730",
     "exception": false,
     "start_time": "2023-07-10T01:46:19.995152",
     "status": "completed"
    },
    "tags": []
   },
   "outputs": [
    {
     "data": {
      "text/plain": [
       "array([200000,  60000])"
      ]
     },
     "execution_count": 16,
     "metadata": {},
     "output_type": "execute_result"
    }
   ],
   "source": [
    "yy_test"
   ]
  },
  {
   "cell_type": "code",
   "execution_count": 17,
   "id": "4b5a4e4e",
   "metadata": {
    "execution": {
     "iopub.execute_input": "2023-07-10T01:46:20.036618Z",
     "iopub.status.busy": "2023-07-10T01:46:20.035417Z",
     "iopub.status.idle": "2023-07-10T01:46:20.043150Z",
     "shell.execute_reply": "2023-07-10T01:46:20.042225Z"
    },
    "papermill": {
     "duration": 0.021368,
     "end_time": "2023-07-10T01:46:20.045726",
     "exception": false,
     "start_time": "2023-07-10T01:46:20.024358",
     "status": "completed"
    },
    "tags": []
   },
   "outputs": [
    {
     "data": {
      "text/plain": [
       "0.5627648102857394"
      ]
     },
     "execution_count": 17,
     "metadata": {},
     "output_type": "execute_result"
    }
   ],
   "source": [
    "r2_score(yy_test ,yy_predict)"
   ]
  },
  {
   "cell_type": "code",
   "execution_count": 18,
   "id": "22dfd836",
   "metadata": {
    "execution": {
     "iopub.execute_input": "2023-07-10T01:46:20.068818Z",
     "iopub.status.busy": "2023-07-10T01:46:20.067650Z",
     "iopub.status.idle": "2023-07-10T01:46:20.358275Z",
     "shell.execute_reply": "2023-07-10T01:46:20.357105Z"
    },
    "papermill": {
     "duration": 0.305537,
     "end_time": "2023-07-10T01:46:20.361369",
     "exception": false,
     "start_time": "2023-07-10T01:46:20.055832",
     "status": "completed"
    },
    "tags": []
   },
   "outputs": [
    {
     "data": {
      "text/plain": [
       "[<matplotlib.lines.Line2D at 0x7c2f1a79c670>]"
      ]
     },
     "execution_count": 18,
     "metadata": {},
     "output_type": "execute_result"
    },
    {
     "data": {
      "image/png": "[encoded data removed]",
      "text/plain": [
       "<Figure size 640x480 with 1 Axes>"
      ]
     },
     "metadata": {},
     "output_type": "display_data"
    }
   ],
   "source": [
    "plt.scatter(x,y)\n",
    "plt.plot(x,poly_model.predict(new_x))"
   ]
  },
  {
   "cell_type": "markdown",
   "id": "5b135c92",
   "metadata": {
    "papermill": {
     "duration": 0.010136,
     "end_time": "2023-07-10T01:46:20.382041",
     "exception": false,
     "start_time": "2023-07-10T01:46:20.371905",
     "status": "completed"
    },
    "tags": []
   },
   "source": [
    "### Try the same value on the 2 model"
   ]
  },
  {
   "cell_type": "code",
   "execution_count": 19,
   "id": "7a5a4783",
   "metadata": {
    "execution": {
     "iopub.execute_input": "2023-07-10T01:46:20.405303Z",
     "iopub.status.busy": "2023-07-10T01:46:20.404926Z",
     "iopub.status.idle": "2023-07-10T01:46:20.413094Z",
     "shell.execute_reply": "2023-07-10T01:46:20.411863Z"
    },
    "papermill": {
     "duration": 0.022541,
     "end_time": "2023-07-10T01:46:20.415541",
     "exception": false,
     "start_time": "2023-07-10T01:46:20.393000",
     "status": "completed"
    },
    "tags": []
   },
   "outputs": [
    {
     "data": {
      "text/plain": [
       "array([99614.33345136])"
      ]
     },
     "execution_count": 19,
     "metadata": {},
     "output_type": "execute_result"
    }
   ],
   "source": [
    "#with applay polyminominal on input value in thhe first\n",
    "a=poly_model.predict(x_poly.fit_transform([[6]]))\n",
    "a"
   ]
  },
  {
   "cell_type": "code",
   "execution_count": 20,
   "id": "f22cf86b",
   "metadata": {
    "execution": {
     "iopub.execute_input": "2023-07-10T01:46:20.438619Z",
     "iopub.status.busy": "2023-07-10T01:46:20.438207Z",
     "iopub.status.idle": "2023-07-10T01:46:20.445569Z",
     "shell.execute_reply": "2023-07-10T01:46:20.444491Z"
    },
    "papermill": {
     "duration": 0.022024,
     "end_time": "2023-07-10T01:46:20.448277",
     "exception": false,
     "start_time": "2023-07-10T01:46:20.426253",
     "status": "completed"
    },
    "tags": []
   },
   "outputs": [
    {
     "data": {
      "text/plain": [
       "array([285048.16955684])"
      ]
     },
     "execution_count": 20,
     "metadata": {},
     "output_type": "execute_result"
    }
   ],
   "source": [
    "#without applay polyminominal\n",
    "b=rg_model.predict([[6]])\n",
    "b"
   ]
  }
 ],
 "metadata": {
  "kernelspec": {
   "display_name": "Python 3",
   "language": "python",
   "name": "python3"
  },
  "language_info": {
   "codemirror_mode": {
    "name": "ipython",
    "version": 3
   },
   "file_extension": ".py",
   "mimetype": "text/x-python",
   "name": "python",
   "nbconvert_exporter": "python",
   "pygments_lexer": "ipython3",
   "version": "3.10.10"
  },
  "papermill": {
   "default_parameters": {},
   "duration": 17.852202,
   "end_time": "2023-07-10T01:46:21.582964",
   "environment_variables": {},
   "exception": null,
   "input_path": "__notebook__.ipynb",
   "output_path": "__notebook__.ipynb",
   "parameters": {},
   "start_time": "2023-07-10T01:46:03.730762",
   "version": "2.4.0"
  }
 },
 "nbformat": 4,
 "nbformat_minor": 5
}
